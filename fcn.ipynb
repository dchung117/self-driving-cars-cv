{
  "cells": [
    {
      "cell_type": "markdown",
      "metadata": {
        "id": "view-in-github",
        "colab_type": "text"
      },
      "source": [
        "<a href=\"https://colab.research.google.com/github/dchung117/self-driving-cars-cv/blob/main/fcn.ipynb\" target=\"_parent\"><img src=\"https://colab.research.google.com/assets/colab-badge.svg\" alt=\"Open In Colab\"/></a>"
      ]
    },
    {
      "cell_type": "markdown",
      "source": [
        " # Package installations"
      ],
      "metadata": {
        "id": "bUSvg5IJXwVZ"
      }
    },
    {
      "cell_type": "code",
      "source": [
        "!pip install -q kaggle"
      ],
      "metadata": {
        "id": "m-13gvE-X03f"
      },
      "execution_count": 1,
      "outputs": []
    },
    {
      "cell_type": "markdown",
      "source": [
        "# Imports"
      ],
      "metadata": {
        "id": "x8uoCfDkLUXq"
      }
    },
    {
      "cell_type": "code",
      "source": [
        "import pandas as pd\n",
        "import numpy as np\n",
        "import os\n",
        "import random\n",
        "import datetime\n",
        "from base64 import b64encode\n",
        "from pathlib import Path\n",
        "\n",
        "import torch\n",
        "from torch.utils.data import DataLoader\n",
        "import torchvision\n",
        "import torchvision.transforms.functional as TF\n",
        "from torch.utils.data import random_split, Dataset\n",
        "\n",
        "import cv2\n",
        "from tqdm import tqdm\n",
        "import matplotlib.pyplot as plt\n",
        "%matplotlib inline\n",
        "import matplotlib.image as mpimg\n",
        "from IPython.display import clear_output, HTML\n",
        "\n",
        "# mount google colab drive\n",
        "from google.colab import files"
      ],
      "metadata": {
        "id": "YsYPNMvRK9fL"
      },
      "execution_count": 51,
      "outputs": []
    },
    {
      "cell_type": "markdown",
      "source": [
        "# Download KITTI dataset"
      ],
      "metadata": {
        "id": "3iCHsi_BMgwX"
      }
    },
    {
      "cell_type": "code",
      "source": [
        "# Upload kaggle json\n",
        "files.upload()\n",
        "\n",
        "!mkdir ~/.kaggle\n",
        "!mv kaggle.json ~/.kaggle\n",
        "!chmod 600 ~/.kaggle/kaggle.json"
      ],
      "metadata": {
        "colab": {
          "base_uri": "https://localhost:8080/",
          "height": 72
        },
        "id": "mA8215CcLNhT",
        "outputId": "4bcb7f1c-17c4-4518-b09e-9067c385cbc3"
      },
      "execution_count": 4,
      "outputs": [
        {
          "output_type": "display_data",
          "data": {
            "text/plain": [
              "<IPython.core.display.HTML object>"
            ],
            "text/html": [
              "\n",
              "     <input type=\"file\" id=\"files-bcbbb18d-46e6-45f7-b9f5-04b95e79bb94\" name=\"files[]\" multiple disabled\n",
              "        style=\"border:none\" />\n",
              "     <output id=\"result-bcbbb18d-46e6-45f7-b9f5-04b95e79bb94\">\n",
              "      Upload widget is only available when the cell has been executed in the\n",
              "      current browser session. Please rerun this cell to enable.\n",
              "      </output>\n",
              "      <script>// Copyright 2017 Google LLC\n",
              "//\n",
              "// Licensed under the Apache License, Version 2.0 (the \"License\");\n",
              "// you may not use this file except in compliance with the License.\n",
              "// You may obtain a copy of the License at\n",
              "//\n",
              "//      http://www.apache.org/licenses/LICENSE-2.0\n",
              "//\n",
              "// Unless required by applicable law or agreed to in writing, software\n",
              "// distributed under the License is distributed on an \"AS IS\" BASIS,\n",
              "// WITHOUT WARRANTIES OR CONDITIONS OF ANY KIND, either express or implied.\n",
              "// See the License for the specific language governing permissions and\n",
              "// limitations under the License.\n",
              "\n",
              "/**\n",
              " * @fileoverview Helpers for google.colab Python module.\n",
              " */\n",
              "(function(scope) {\n",
              "function span(text, styleAttributes = {}) {\n",
              "  const element = document.createElement('span');\n",
              "  element.textContent = text;\n",
              "  for (const key of Object.keys(styleAttributes)) {\n",
              "    element.style[key] = styleAttributes[key];\n",
              "  }\n",
              "  return element;\n",
              "}\n",
              "\n",
              "// Max number of bytes which will be uploaded at a time.\n",
              "const MAX_PAYLOAD_SIZE = 100 * 1024;\n",
              "\n",
              "function _uploadFiles(inputId, outputId) {\n",
              "  const steps = uploadFilesStep(inputId, outputId);\n",
              "  const outputElement = document.getElementById(outputId);\n",
              "  // Cache steps on the outputElement to make it available for the next call\n",
              "  // to uploadFilesContinue from Python.\n",
              "  outputElement.steps = steps;\n",
              "\n",
              "  return _uploadFilesContinue(outputId);\n",
              "}\n",
              "\n",
              "// This is roughly an async generator (not supported in the browser yet),\n",
              "// where there are multiple asynchronous steps and the Python side is going\n",
              "// to poll for completion of each step.\n",
              "// This uses a Promise to block the python side on completion of each step,\n",
              "// then passes the result of the previous step as the input to the next step.\n",
              "function _uploadFilesContinue(outputId) {\n",
              "  const outputElement = document.getElementById(outputId);\n",
              "  const steps = outputElement.steps;\n",
              "\n",
              "  const next = steps.next(outputElement.lastPromiseValue);\n",
              "  return Promise.resolve(next.value.promise).then((value) => {\n",
              "    // Cache the last promise value to make it available to the next\n",
              "    // step of the generator.\n",
              "    outputElement.lastPromiseValue = value;\n",
              "    return next.value.response;\n",
              "  });\n",
              "}\n",
              "\n",
              "/**\n",
              " * Generator function which is called between each async step of the upload\n",
              " * process.\n",
              " * @param {string} inputId Element ID of the input file picker element.\n",
              " * @param {string} outputId Element ID of the output display.\n",
              " * @return {!Iterable<!Object>} Iterable of next steps.\n",
              " */\n",
              "function* uploadFilesStep(inputId, outputId) {\n",
              "  const inputElement = document.getElementById(inputId);\n",
              "  inputElement.disabled = false;\n",
              "\n",
              "  const outputElement = document.getElementById(outputId);\n",
              "  outputElement.innerHTML = '';\n",
              "\n",
              "  const pickedPromise = new Promise((resolve) => {\n",
              "    inputElement.addEventListener('change', (e) => {\n",
              "      resolve(e.target.files);\n",
              "    });\n",
              "  });\n",
              "\n",
              "  const cancel = document.createElement('button');\n",
              "  inputElement.parentElement.appendChild(cancel);\n",
              "  cancel.textContent = 'Cancel upload';\n",
              "  const cancelPromise = new Promise((resolve) => {\n",
              "    cancel.onclick = () => {\n",
              "      resolve(null);\n",
              "    };\n",
              "  });\n",
              "\n",
              "  // Wait for the user to pick the files.\n",
              "  const files = yield {\n",
              "    promise: Promise.race([pickedPromise, cancelPromise]),\n",
              "    response: {\n",
              "      action: 'starting',\n",
              "    }\n",
              "  };\n",
              "\n",
              "  cancel.remove();\n",
              "\n",
              "  // Disable the input element since further picks are not allowed.\n",
              "  inputElement.disabled = true;\n",
              "\n",
              "  if (!files) {\n",
              "    return {\n",
              "      response: {\n",
              "        action: 'complete',\n",
              "      }\n",
              "    };\n",
              "  }\n",
              "\n",
              "  for (const file of files) {\n",
              "    const li = document.createElement('li');\n",
              "    li.append(span(file.name, {fontWeight: 'bold'}));\n",
              "    li.append(span(\n",
              "        `(${file.type || 'n/a'}) - ${file.size} bytes, ` +\n",
              "        `last modified: ${\n",
              "            file.lastModifiedDate ? file.lastModifiedDate.toLocaleDateString() :\n",
              "                                    'n/a'} - `));\n",
              "    const percent = span('0% done');\n",
              "    li.appendChild(percent);\n",
              "\n",
              "    outputElement.appendChild(li);\n",
              "\n",
              "    const fileDataPromise = new Promise((resolve) => {\n",
              "      const reader = new FileReader();\n",
              "      reader.onload = (e) => {\n",
              "        resolve(e.target.result);\n",
              "      };\n",
              "      reader.readAsArrayBuffer(file);\n",
              "    });\n",
              "    // Wait for the data to be ready.\n",
              "    let fileData = yield {\n",
              "      promise: fileDataPromise,\n",
              "      response: {\n",
              "        action: 'continue',\n",
              "      }\n",
              "    };\n",
              "\n",
              "    // Use a chunked sending to avoid message size limits. See b/62115660.\n",
              "    let position = 0;\n",
              "    do {\n",
              "      const length = Math.min(fileData.byteLength - position, MAX_PAYLOAD_SIZE);\n",
              "      const chunk = new Uint8Array(fileData, position, length);\n",
              "      position += length;\n",
              "\n",
              "      const base64 = btoa(String.fromCharCode.apply(null, chunk));\n",
              "      yield {\n",
              "        response: {\n",
              "          action: 'append',\n",
              "          file: file.name,\n",
              "          data: base64,\n",
              "        },\n",
              "      };\n",
              "\n",
              "      let percentDone = fileData.byteLength === 0 ?\n",
              "          100 :\n",
              "          Math.round((position / fileData.byteLength) * 100);\n",
              "      percent.textContent = `${percentDone}% done`;\n",
              "\n",
              "    } while (position < fileData.byteLength);\n",
              "  }\n",
              "\n",
              "  // All done.\n",
              "  yield {\n",
              "    response: {\n",
              "      action: 'complete',\n",
              "    }\n",
              "  };\n",
              "}\n",
              "\n",
              "scope.google = scope.google || {};\n",
              "scope.google.colab = scope.google.colab || {};\n",
              "scope.google.colab._files = {\n",
              "  _uploadFiles,\n",
              "  _uploadFilesContinue,\n",
              "};\n",
              "})(self);\n",
              "</script> "
            ]
          },
          "metadata": {}
        },
        {
          "output_type": "stream",
          "name": "stdout",
          "text": [
            "Saving kaggle.json to kaggle.json\n"
          ]
        }
      ]
    },
    {
      "cell_type": "code",
      "source": [
        "# Download KITTI road segmentation data\n",
        "!kaggle datasets download -d sakshaymahna/kittiroadsegmentation\n",
        "!unzip -q kittiroadsegmentation.zip"
      ],
      "metadata": {
        "id": "FsYlDouPSvbc",
        "outputId": "eb9dcf22-a753-40cc-e62e-9a77dfb4fcf6",
        "colab": {
          "base_uri": "https://localhost:8080/"
        }
      },
      "execution_count": 5,
      "outputs": [
        {
          "output_type": "stream",
          "name": "stdout",
          "text": [
            "Downloading kittiroadsegmentation.zip to /content\n",
            " 97% 297M/305M [00:02<00:00, 72.0MB/s]\n",
            "100% 305M/305M [00:02<00:00, 109MB/s] \n"
          ]
        }
      ]
    },
    {
      "cell_type": "code",
      "source": [
        "# Create validation split\n",
        "RANDOM_STATE = 27\n",
        "\n",
        "train_data_dir = Path(\"training\")\n",
        "test_data_dir = Path(\"testing\")\n",
        "\n",
        "val_split = 0.1\n",
        "test_split = 0.1\n",
        "\n",
        "# shuffle train data\n",
        "train_data_dir_list = list((train_data_dir / \"image_2\").iterdir())\n",
        "n = len(train_data_dir_list)\n",
        "random.Random(RANDOM_STATE).shuffle(train_data_dir_list)\n",
        "\n",
        "test_data_files = train_data_dir_list[:int(test_split*n)]\n",
        "val_data_files = train_data_dir_list[int(test_split*n):int(test_split*n)+int(val_split*n)]\n",
        "train_data_files = train_data_dir_list[int(test_split*n)+int(val_split*n):]"
      ],
      "metadata": {
        "id": "IcAFyCI3NWug"
      },
      "execution_count": 6,
      "outputs": []
    },
    {
      "cell_type": "markdown",
      "source": [
        "# Constants"
      ],
      "metadata": {
        "id": "r37Fs91EdgQS"
      }
    },
    {
      "cell_type": "code",
      "source": [
        "IMG_SIZE = 128\n",
        "N_CHANNELS = 3\n",
        "N_CLASSES = 1\n",
        "BATCH_SIZE = 32"
      ],
      "metadata": {
        "id": "5lQZTB1UdP45"
      },
      "execution_count": 52,
      "outputs": []
    },
    {
      "cell_type": "markdown",
      "source": [
        "# Datasets"
      ],
      "metadata": {
        "id": "kGAHdtgSmBh8"
      }
    },
    {
      "cell_type": "code",
      "source": [
        "class KITTIDataset(Dataset):\n",
        "  def __init__(self, data_files: list):\n",
        "    self.data_files = data_files\n",
        "\n",
        "  def __len__(self):\n",
        "    return len(self.data_files)\n",
        "\n",
        "  def __getitem__(self, idx: int):\n",
        "    # Get image file\n",
        "    file = str(self.data_files[idx])\n",
        "  \n",
        "    # Read img\n",
        "    img = torchvision.io.read_image(file)\n",
        "\n",
        "    # Read mask\n",
        "    mask_file = file.replace(\"image_2\", \"gt_image_2\")\n",
        "    mask_file = mask_file.replace(\"um_\", \"um_road_\")\n",
        "    mask_file = mask_file.replace(\"umm_\", \"umm_road_\")\n",
        "    mask_file = mask_file.replace(\"uu_\", \"uu_road_\")\n",
        "    mask = torchvision.io.read_image(mask_file)\n",
        "\n",
        "    # labels for non-road, road, other\n",
        "    # non_road_label = torch.tensor([255, 0, 0], dtype=torch.uint8).unsqueeze(-1).unsqueeze(-1)\n",
        "    road_label = torch.tensor([255, 0, 255], dtype=torch.uint8).unsqueeze(-1).unsqueeze(-1)\n",
        "    # other_label = torch.tensor([0, 0, 0], dtype=torch.uint8).unsqueeze(-1).unsqueeze(-1)\n",
        "\n",
        "    # Convert to binary mask\n",
        "    mask = torch.all((mask == road_label), dim=0).unsqueeze(dim=0).to(torch.uint8)\n",
        "\n",
        "    return img, mask"
      ],
      "metadata": {
        "id": "QtN0C_wzdpSr"
      },
      "execution_count": 12,
      "outputs": []
    },
    {
      "cell_type": "code",
      "source": [
        "# Create datasets\n",
        "train_dataset = KITTIDataset(train_data_files)\n",
        "val_dataset = KITTIDataset(val_data_files)\n",
        "test_dataset = KITTIDataset(test_data_files)"
      ],
      "metadata": {
        "id": "FS7LD04whOav"
      },
      "execution_count": 9,
      "outputs": []
    },
    {
      "cell_type": "markdown",
      "source": [
        "# Image Augmentations"
      ],
      "metadata": {
        "id": "Z897JtB9mPmd"
      }
    },
    {
      "cell_type": "code",
      "source": [
        "def normalize(image: torch.Tensor, mask: torch.Tensor) -> tuple:\n",
        "  # cast image as float, normalize\n",
        "  image = image.to(torch.float32) / 255.0\n",
        "  return image, mask\n",
        "\n",
        "# train collate function\n",
        "def train_collator(batch: list) -> tuple:\n",
        "  def collate_fn(image: torch.Tensor, mask: torch.Tensor) -> tuple:\n",
        "    # resize tensors\n",
        "    image = TF.resize(image, (IMG_SIZE, IMG_SIZE))\n",
        "    mask = TF.resize(mask, (IMG_SIZE, IMG_SIZE))\n",
        "\n",
        "    # horizontal flip w/ 0.5 prob\n",
        "    if np.random.uniform() < 0.5:\n",
        "      image = TF.hflip(image)\n",
        "      mask = TF.hflip(mask)\n",
        "    \n",
        "    # normalize image, mask\n",
        "    image, mask = normalize(image, mask)\n",
        "\n",
        "    return image, mask\n",
        "\n",
        "  # Apply collate function to each element in batch\n",
        "  batch = [collate_fn(*x) for x in batch]\n",
        "\n",
        "  # Unpack batch\n",
        "  images, masks = zip(*batch)\n",
        "  images = torch.stack(images, dim=0)\n",
        "  masks = torch.stack(masks, dim=0)\n",
        "\n",
        "  return images, masks\n",
        "\n",
        "def test_collator(batch: list) -> tuple:\n",
        "  def collate_fn(image: torch.Tensor, mask: torch.Tensor) -> tuple:\n",
        "    # resize tensors\n",
        "    image = TF.resize(image, (IMG_SIZE, IMG_SIZE))\n",
        "    mask = TF.resize(image, (IMG_SIZE, IMG_SIZE))\n",
        "\n",
        "    # normalize\n",
        "    image, mask = normalize(image, mask)\n",
        "\n",
        "    return image, mask\n",
        "  \n",
        "  # resize and normalize\n",
        "  batch = [collate_fn(*x) for x in batch]\n",
        "\n",
        "  # unpack batch\n",
        "  images, masks = zip(*batch)\n",
        "  images = torch.stack(images, dim=0)\n",
        "  masks = torch.stack(masks, dim=0)\n",
        "\n",
        "  return images, masks"
      ],
      "metadata": {
        "id": "iDMWr2xMmRzK"
      },
      "execution_count": 58,
      "outputs": []
    },
    {
      "cell_type": "markdown",
      "source": [
        "# Dataloaders"
      ],
      "metadata": {
        "id": "0ULNMvXkkA9W"
      }
    },
    {
      "cell_type": "code",
      "source": [
        "train_dl = DataLoader(train_dataset, batch_size=BATCH_SIZE, shuffle=True,\n",
        "                      collate_fn=train_collator, pin_memory=True)\n",
        "val_dl = DataLoader(val_dataset, batch_size=BATCH_SIZE, shuffle=False,\n",
        "                    collate_fn=test_collator, pin_memory=True)\n",
        "test_dl = DataLoader(test_dataset, batch_size=BATCH_SIZE, shuffle=False,\n",
        "                     collate_fn=test_collator, pin_memory=True)"
      ],
      "metadata": {
        "id": "HER67QKjj1dY"
      },
      "execution_count": 61,
      "outputs": []
    },
    {
      "cell_type": "code",
      "source": [],
      "metadata": {
        "id": "yG7nZs6Ikvy_"
      },
      "execution_count": null,
      "outputs": []
    }
  ],
  "metadata": {
    "language_info": {
      "name": "python"
    },
    "orig_nbformat": 4,
    "colab": {
      "provenance": [],
      "include_colab_link": true
    },
    "accelerator": "GPU",
    "gpuClass": "standard",
    "kernelspec": {
      "name": "python3",
      "display_name": "Python 3"
    }
  },
  "nbformat": 4,
  "nbformat_minor": 0
}